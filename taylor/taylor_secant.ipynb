{
  "cells": [
    {
      "cell_type": "markdown",
      "metadata": {
        "colab_type": "text",
        "id": "view-in-github"
      },
      "source": [
        "<a href=\"https://colab.research.google.com/github/Dantae-Jekins/comp_cient./blob/main/taylor/taylor_secant.ipynb\" target=\"_parent\"><img src=\"https://colab.research.google.com/assets/colab-badge.svg\" alt=\"Open In Colab\"/></a>"
      ]
    },
    {
      "cell_type": "markdown",
      "metadata": {
        "id": "Thms6kT_AwzB"
      },
      "source": [
        "## Séries de taylor - Secante\n",
        "Aproximação da função de secante através das séries de taylor"
      ]
    },
    {
      "cell_type": "markdown",
      "metadata": {
        "id": "D1VNesTYBDv4"
      },
      "source": [
        "#### Código, conteúdos e fórmula utilizada\n",
        "- Combinações \n",
        "- Fatoriais\n",
        "- Números de Euler\n"
      ]
    },
    {
      "cell_type": "markdown",
      "metadata": {
        "id": "7oBnCc7YBW5R"
      },
      "source": [
        "Fórmula de Taylor\n",
        "\n",
        "$$\\sum_{n=0}^{∞} \\frac{f^{'n}(a)}{n!} ⋅ (x-a)^n$$\n",
        "\n",
        "Resolução das derivadas da Secante para $a→0$\n",
        "\n",
        "$\n",
        "f(0) =\\sec\\left(0\\right) = 1\n",
        "$\n",
        "\n",
        "$\n",
        "\\frac{df}{dx} =\\sec\\left(0\\right)\\tan\\left(0\\right) = 0\n",
        "$\n",
        "\n",
        "$\n",
        "\\frac{d^2f}{dx^2} =\\sec\\left(0\\right)\\tan^2\\left(0\\right)+\\sec^3\\left(0\\right) = 1\n",
        "$\n",
        "\n",
        "$\n",
        "\\frac{d^3f}{dx^3} = \\sec\\left(0\\right)\\tan^3\\left(0\\right)+5\\sec^3\\left(0\\right)\\tan\\left(0\\right) = 0\n",
        "$\n",
        "\n",
        "$\n",
        "\\frac{d^4f}{dx^4} = \\sec\\left(0\\right)\\tan^4\\left(0\\right)+18\\sec^3\\left(0\\right)\\tan^2\\left(0\\right)+5\\sec^5\\left(0\\right) = 5\n",
        "$\n",
        "\n",
        "$\n",
        "\\frac{d^5f}{dx^5} = \\sec\\left(a\\right)\\tan^5\\left(a\\right)+58\\sec^3\\left(a\\right)\\tan^3\\left(a\\right)+61\\sec^5\\left(a\\right)\\tan\\left(a\\right) ...\n",
        "$\n",
        "\n",
        "<br>\n",
        "Então, aplicadas em a = 0, nós temos uma ordem equivalente à seguinte:\n",
        "\n",
        "**Para todo n ímpar: $$f^{'n}(0) = 0$$**\n",
        "**Para todo n par: $$f^{'n}(0) = |E_n|$$**\n",
        "Seja $E_n$ a série zig-zag do número de Euler\n",
        "\n",
        "Então, montando a fórmula final temos\n",
        "$$\\sum_{n=0}^{∞} \\frac{|E_{2n}|}{2n!} ⋅ x^{2n}$$"
      ]
    },
    {
      "cell_type": "code",
      "execution_count": null,
      "metadata": {
        "id": "Wvv36GAfCRCx"
      },
      "outputs": [],
      "source": [
        "import numpy as np;\n"
      ]
    },
    {
      "cell_type": "code",
      "execution_count": null,
      "metadata": {
        "id": "xxKWskgBCa05"
      },
      "outputs": [],
      "source": [
        "_j_facts = np.empty(2, dtype=object);\n",
        "_j_facts[0] = 1;\n",
        "_j_facts[1] = 1;\n",
        "_j_maxfact = 1;\n",
        "\n",
        "\"\"\"Fatorial otimizado\"\"\"\n",
        "def _j_fact(val) -> int:\n",
        "    global _j_facts;\n",
        "    global _j_maxfact;\n",
        "    if (val <= _j_maxfact):\n",
        "        return _j_facts[val];\n",
        "    \n",
        "    else:\n",
        "        for i in range(_j_maxfact+1, val+1):\n",
        "            mult = i*_j_facts[i-1];\n",
        "            _j_facts = np.append(_j_facts, mult);\n",
        "        _j_maxfact = val;\n",
        "        return _j_facts[val];"
      ]
    },
    {
      "cell_type": "code",
      "execution_count": null,
      "metadata": {
        "id": "3OYlkw6YCXcx"
      },
      "outputs": [],
      "source": [
        "\"\"\" Combinação simples (N P)\"\"\"\n",
        "def comb(N, P) -> int:\n",
        "    return _j_fact(N) // (_j_fact(P)*_j_fact(N - P)); # comb sempre retorna um inteiro"
      ]
    },
    {
      "cell_type": "markdown",
      "metadata": {},
      "source": [
        "\n",
        "Fórmula do número de Euler usada\n",
        "$$\n",
        "E_{2n} = (2n + 1) \\cdot \\sum_{l=1}^{2n} (-1)^{l} \\cdot \\frac{1}{2^{l}(l + 1)} \\cdot \\binom{2n}{l} \\sum_{q=0}^{l} \\binom{l}{q} \\cdot (2q - l)^{2n}\n",
        "$$"
      ]
    },
    {
      "cell_type": "code",
      "execution_count": null,
      "metadata": {
        "id": "M-7KKtV7CU-h"
      },
      "outputs": [],
      "source": [
        "\"\"\" Números de euler\"\"\"\n",
        "def euler(val) -> int:\n",
        "    # tratar erro\n",
        "    if val == 0: return 1;\n",
        "    elif (val%2) != 0: return 0;\n",
        "\n",
        "    N = val;\n",
        "    mult = (N + 1);\n",
        "    soma = 0;\n",
        "    for l in range(1, N+1):\n",
        "        itema = ((-1)**l);\n",
        "        itemb = (1/((2**l)*(l+1)));\n",
        "        itemc = comb(N, l);\n",
        "        itemd = 0;\n",
        "        for q in range(0, l+1):            \n",
        "            itemd += comb(l, q)* ((2*q -  l))**N;\n",
        "        \n",
        "        soma += itema*itemb*itemc*itemd;    \n",
        "\n",
        "    return round(mult*soma);\n",
        "\n"
      ]
    },
    {
      "cell_type": "code",
      "execution_count": null,
      "metadata": {
        "id": "mOaJIXbuDYJR"
      },
      "outputs": [],
      "source": [
        "def secant(val):\n",
        "    return 1/np.cos(val);\n",
        "\n",
        "__secant_table = {\n",
        "    0: 1,\n",
        "    \n",
        "    np.pi/6: 2/np.sqrt(3),\n",
        "    np.pi/4: 2/np.sqrt(2),\n",
        "    np.pi/3: 2,\n",
        "    \n",
        "    np.pi/2: None,\n",
        "    \n",
        "    2*np.pi/3: -2,\n",
        "    3*np.pi/4: -2/np.sqrt(2),\n",
        "    5*np.pi/6: -2/np.sqrt(3),\n",
        "    \n",
        "    np.pi: -1,\n",
        "    \n",
        "    7*np.pi/6: -2/np.sqrt(3),\n",
        "    5*np.pi/4: -2/np.sqrt(2),\n",
        "    4*np.pi/3: -2,\n",
        "\n",
        "    3*np.pi/2: None,\n",
        "\n",
        "    5*np.pi/3: 2,\n",
        "    7*np.pi/4: 2/np.sqrt(2),\n",
        "    11*np.pi/6: 2/np.sqrt(3),\n",
        "}\n",
        "\n",
        "def taylor_secante(val, inf) -> float:\n",
        "    if val in __secant_table:\n",
        "        return __secant_table[val];\n",
        "    \n",
        "    retorno = 0;\n",
        "    for i in range(0, inf+1):\n",
        "        retorno += (max(euler(i), -euler(i))/_j_fact(i)) * val**(i);\n",
        "    return retorno; "
      ]
    },
    {
      "cell_type": "code",
      "execution_count": null,
      "metadata": {
        "colab": {
          "base_uri": "https://localhost:8080/",
          "height": 483
        },
        "id": "kY-KjOthgD0q",
        "outputId": "cf5bbfd7-1c7d-4128-c06d-00d2fbe51d51"
      },
      "outputs": [
        {
          "data": {
            "image/png": "[encoded data removed]",
            "text/plain": [
              "<Figure size 1440x576 with 1 Axes>"
            ]
          },
          "metadata": {
            "needs_background": "light"
          },
          "output_type": "display_data"
        }
      ],
      "source": [
        "import matplotlib.pyplot as plt\n",
        "import numpy as np\n",
        "\n",
        "\n",
        "x = [ #definir os x's da função para não bugar o gráfico\n",
        "    np.linspace(-np.pi/2, np.pi/2, 1000) #x da secante\n",
        "    ,np.linspace(-np.pi*2, np.pi*2, 100) # taylor n = 20\n",
        "    ,np.linspace(-np.pi*2, np.pi*2, 100) # taylor n = 4\n",
        "    ,np.linspace(-np.pi*2 - 0.4, np.pi*2, 100) # taylor n = 2\n",
        "    ]\n",
        "\n",
        "y = [ #os y's\n",
        "    secant(x[0])\n",
        "    ,taylor_secante(x[1], 20)\n",
        "    ,taylor_secante(x[2], 4)\n",
        "    , taylor_secante(x[3], 2)\n",
        "    ];\n",
        "\n",
        "lens = [\n",
        "    \"Secante\"\n",
        "    ,\"Taylor 20\"\n",
        "    ,\"Taylor 4\"\n",
        "    ,\"Taylor 2\"\n",
        "]\n",
        "\n",
        "\n",
        "fig, ax = plt.subplots()\n",
        "fig.set_size_inches(20,8)\n",
        "for i in range(0, len(x)):\n",
        "  ax.plot(x[i], y[i], label=lens[i]);\n",
        "plt.ylim([-5,45]); # x axis\n",
        "plt.xlim([-20, 20]);\n",
        "ax.legend();\n",
        "\n",
        "ax.grid()"
      ]
    }
  ],
  "metadata": {
    "colab": {
      "collapsed_sections": [],
      "include_colab_link": true,
      "provenance": []
    },
    "kernelspec": {
      "display_name": "Python 3.10.6 64-bit",
      "language": "python",
      "name": "python3"
    },
    "language_info": {
      "name": "python",
      "version": "3.10.6"
    },
    "vscode": {
      "interpreter": {
        "hash": "e7370f93d1d0cde622a1f8e1c04877d8463912d04d973331ad4851f04de6915a"
      }
    }
  },
  "nbformat": 4,
  "nbformat_minor": 0
}
