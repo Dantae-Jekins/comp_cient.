{
 "cells": [
  {
   "cell_type": "code",
   "execution_count": 68,
   "metadata": {},
   "outputs": [
    {
     "name": "stdout",
     "output_type": "stream",
     "text": [
      "0.8194366787752403\n"
     ]
    }
   ],
   "source": [
    "from math import floor\n",
    "from sklearn import linear_model;\n",
    "from sklearn.metrics import r2_score;\n",
    "\n",
    "import pandas as pd;\n",
    "import numpy as np;\n",
    "\n",
    "nomes = ['carat', 'depth', 'price']\n",
    "seeds = pd.read_csv(\n",
    "        'https://raw.githubusercontent.com/tidyverse/ggplot2/main/data-raw/diamonds.csv',\n",
    "        header=0,\n",
    "        usecols = nomes,\n",
    "        index_col=False,\n",
    "        );\n",
    "# y = ax + b\n",
    "# a = ?\n",
    "# b = ?\n",
    "\n",
    "# EQT = summ_n( (y_n - y_MEDIA)^2 );\n",
    "\n",
    "# embaralhamos os itens para selecionar\n",
    "# os de teste e os de treinamento\n",
    "sample = seeds.sample(frac=1);\n",
    "train = sample[:floor(len(sample)*0.80)]\n",
    "test = sample[floor(len(sample)*0.80):]\n",
    "\n",
    "# modela e cria a reta de regressão com base em carat e depth\n",
    "reg = linear_model.LinearRegression();\n",
    "reg.fit(train[[\"carat\", \"depth\"]], train[\"price\"]);\n",
    "\n",
    "# estima valores de preço com base na nossa reta\n",
    "price_pred = reg.predict(test[[\"carat\", \"depth\"]]);\n",
    "# valores reais\n",
    "test[\"price\"];\n",
    "\n",
    "print(r2_score(price_pred, test[\"price\"]));\n",
    "\n"
   ]
  }
 ],
 "metadata": {
  "kernelspec": {
   "display_name": "Python 3.10.8 64-bit",
   "language": "python",
   "name": "python3"
  },
  "language_info": {
   "codemirror_mode": {
    "name": "ipython",
    "version": 3
   },
   "file_extension": ".py",
   "mimetype": "text/x-python",
   "name": "python",
   "nbconvert_exporter": "python",
   "pygments_lexer": "ipython3",
   "version": "3.10.8"
  },
  "orig_nbformat": 4,
  "vscode": {
   "interpreter": {
    "hash": "e7370f93d1d0cde622a1f8e1c04877d8463912d04d973331ad4851f04de6915a"
   }
  }
 },
 "nbformat": 4,
 "nbformat_minor": 2
}
