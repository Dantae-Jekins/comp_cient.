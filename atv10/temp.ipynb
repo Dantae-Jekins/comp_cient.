{
 "cells": [
  {
   "cell_type": "markdown",
   "metadata": {},
   "source": [
    "# Regressão Linear Multipla\n",
    "\n",
    "A partir das variáveis, calcular o preço estimado do diamante\n",
    "Usar:\n",
    "\n",
    "    - Dataset treinamento/testes\n",
    "    - Limpeza dos dados\n",
    "    - Seleção de dados de entrada que maximizam o resultado\n",
    "    - Calcular R2 do modelo\n",
    "\n",
    "Importando bibliotecas e suas funções, que serão necessárias para predições."
   ]
  },
  {
   "cell_type": "code",
   "execution_count": 3,
   "metadata": {},
   "outputs": [],
   "source": [
    "from math import floor\n",
    "from sklearn import linear_model;\n",
    "from sklearn.metrics import r2_score;\n",
    "\n",
    "import pandas as pd;\n",
    "import numpy as np;"
   ]
  },
  {
   "cell_type": "markdown",
   "metadata": {},
   "source": [
    "Iniciamos o programa baixando nossa amostra e definindo quais colunas utilizaremos na criação do modelo de regressão."
   ]
  },
  {
   "cell_type": "code",
   "execution_count": 4,
   "metadata": {},
   "outputs": [],
   "source": [
    "nomes = ['carat', 'depth', 'price']\n",
    "seeds = pd.read_csv(\n",
    "        'https://raw.githubusercontent.com/tidyverse/ggplot2/main/data-raw/diamonds.csv',\n",
    "        header=0,\n",
    "        usecols = nomes,\n",
    "        index_col=False,\n",
    "    );"
   ]
  },
  {
   "cell_type": "markdown",
   "metadata": {},
   "source": [
    "Dividimos nossa amostra total em dois grupos, o grupo `train` que conterá $80\\%$ do total da amostra, e o grupo `test` com os outros $20\\%$ do total. Criaremos a reta de regressão com base em nossa amostra que compõem $80\\%$ do total, e validaremos a precisão aplicando testes nos outros $20\\%$."
   ]
  },
  {
   "cell_type": "code",
   "execution_count": 5,
   "metadata": {},
   "outputs": [],
   "source": [
    "sample = seeds.sample(frac=1);\n",
    "train = sample[:floor(len(sample)*0.80)]\n",
    "test = sample[floor(len(sample)*0.80):]"
   ]
  },
  {
   "cell_type": "markdown",
   "metadata": {},
   "source": [
    "Cria o objeto e então modelo de regressão linear com base nas variáveis passadas. Os dados, a partir desse processamento, serão armazenados em suas respectivas variáveis para serem utilizados posteriormente em `predict` (por exemplo)."
   ]
  },
  {
   "cell_type": "code",
   "execution_count": 6,
   "metadata": {},
   "outputs": [],
   "source": [
    "reg = linear_model.LinearRegression();\n",
    "reg.fit(train[[\"carat\", \"depth\"]], train[\"price\"]);"
   ]
  },
  {
   "cell_type": "markdown",
   "metadata": {},
   "source": [
    "Agora estimamos o valor do preço com base na nossa reta retirada anteriormente."
   ]
  },
  {
   "cell_type": "code",
   "execution_count": 7,
   "metadata": {},
   "outputs": [],
   "source": [
    "price_pred = reg.predict(test[[\"carat\", \"depth\"]]);"
   ]
  },
  {
   "cell_type": "markdown",
   "metadata": {},
   "source": [
    "Utilizamos a função `r2_score` para retirar nossas métricas de sucesso, a partir de uma relação quadrática entre o valor que estimamos, com o valor real."
   ]
  },
  {
   "cell_type": "code",
   "execution_count": 9,
   "metadata": {},
   "outputs": [
    {
     "name": "stdout",
     "output_type": "stream",
     "text": [
      "R^2:   0.821\n"
     ]
    }
   ],
   "source": [
    "print(\"R^2: {r2:7.3f}\".format(r2=r2_score(price_pred, test[\"price\"])));"
   ]
  }
 ],
 "metadata": {
  "kernelspec": {
   "display_name": "Python 3.8.10 64-bit",
   "language": "python",
   "name": "python3"
  },
  "language_info": {
   "codemirror_mode": {
    "name": "ipython",
    "version": 3
   },
   "file_extension": ".py",
   "mimetype": "text/x-python",
   "name": "python",
   "nbconvert_exporter": "python",
   "pygments_lexer": "ipython3",
   "version": "3.8.10"
  },
  "orig_nbformat": 4,
  "vscode": {
   "interpreter": {
    "hash": "916dbcbb3f70747c44a77c7bcd40155683ae19c65e1c03b4aa3499c5328201f1"
   }
  }
 },
 "nbformat": 4,
 "nbformat_minor": 2
}
